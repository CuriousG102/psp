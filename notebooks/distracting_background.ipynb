{
 "cells": [
  {
   "cell_type": "code",
   "execution_count": 1,
   "outputs": [],
   "source": [
    "%load_ext autoreload\n",
    "%autoreload 2\n",
    "\n",
    "import itertools\n",
    "\n",
    "from matplotlib import pyplot as plt\n",
    "import numpy as np\n",
    "import gym\n",
    "from gym.envs import registration\n",
    "\n",
    "from wrappers import color_grid\n",
    "\n",
    "%matplotlib inline"
   ],
   "metadata": {
    "collapsed": false
   }
  },
  {
   "cell_type": "code",
   "execution_count": 10,
   "outputs": [],
   "source": [
    "def make(\n",
    "    domain_name,\n",
    "    task_name,\n",
    "    action_dims_to_split,\n",
    "    num_cells_per_dim,\n",
    "    num_colors_per_cell,\n",
    "    evil_level,\n",
    "    seed=1,\n",
    "    visualize_reward=True,\n",
    "    from_pixels=False,\n",
    "    height=84,\n",
    "    width=84,\n",
    "    camera_id=0,\n",
    "    frame_skip=1,\n",
    "    episode_length=1000,\n",
    "    environment_kwargs=None\n",
    "):\n",
    "    env_id = 'dmc_%s_%s_%s' % (domain_name, task_name, seed)\n",
    "    env_id += f'{\"-\".join(map(str, action_dims_to_split))}_{num_cells_per_dim}_{num_colors_per_cell}_{evil_level}-v1'\n",
    "    if from_pixels:\n",
    "        assert not visualize_reward, 'cannot use visualize reward when learning from pixels'\n",
    "\n",
    "    # shorten episode length\n",
    "    max_episode_steps = (episode_length + frame_skip - 1) // frame_skip\n",
    "\n",
    "    if env_id not in gym.envs.registry:\n",
    "        registration.register(\n",
    "            id=env_id,\n",
    "            entry_point='wrappers.color_grid:DmcColorGridWrapper',\n",
    "            kwargs={\n",
    "                'domain_name': domain_name,\n",
    "                'task_name': task_name,\n",
    "                'task_kwargs': {\n",
    "                    'random': seed\n",
    "                },\n",
    "                'num_cells_per_dim': num_cells_per_dim,\n",
    "                'num_colors_per_cell': num_colors_per_cell,\n",
    "                'evil_level': evil_level,\n",
    "                'action_dims_to_split': action_dims_to_split,\n",
    "                'environment_kwargs': environment_kwargs,\n",
    "                'visualize_reward': visualize_reward,\n",
    "                'from_pixels': from_pixels,\n",
    "                'height': height,\n",
    "                'width': width,\n",
    "                'camera_id': camera_id,\n",
    "                'frame_skip': frame_skip,\n",
    "            },\n",
    "            # max_episode_steps=max_episode_steps\n",
    "        )\n",
    "    return gym.make(env_id)"
   ],
   "metadata": {
    "collapsed": false
   }
  },
  {
   "cell_type": "code",
   "execution_count": null,
   "outputs": [],
   "source": [
    "cg_env = make(\n",
    "    'cheetah', 'run',\n",
    "    [0, 2, 4,],\n",
    "    2,\n",
    "    16,\n",
    "    color_grid.EvilEnum.MAXIMUM_EVIL,\n",
    "    from_pixels=True,\n",
    "    visualize_reward=False)\n",
    "obs_0 = cg_env.reset()\n",
    "obs, reward, done, extra = cg_env.step(np.random.rand(6).astype(np.float32) * 2 - 1)\n",
    "# plt.imshow(obs_0)\n",
    "# plt.show()\n",
    "# plt.imshow(obs)\n",
    "# plt.show()\n",
    "for i, j, k in itertools.product(*(3 * [[-.75, .25]])):\n",
    "    obs, reward, done, extra = cg_env.step(np.array([i, 0, j, 0, k, 0], dtype=np.float32))\n",
    "    plt.imshow(obs)\n",
    "    plt.show()\n",
    "    obs, reward, done, extra = cg_env.step(np.array([i + .5, 0, j + .5, 0, k + .5, 0], dtype=np.float32))\n",
    "    plt.imshow(obs)\n",
    "    plt.show()"
   ],
   "metadata": {
    "collapsed": false,
    "pycharm": {
     "is_executing": true
    }
   }
  },
  {
   "cell_type": "code",
   "execution_count": null,
   "outputs": [],
   "source": [
    "cg_env = make(\n",
    "    'cheetah', 'run',\n",
    "    [0, 2, 4,],\n",
    "    3,\n",
    "    16,\n",
    "    color_grid.EvilEnum.MAXIMUM_EVIL,\n",
    "    from_pixels=True,\n",
    "    visualize_reward=False)\n",
    "obs_0 = cg_env.reset()\n",
    "obs, reward, done, extra = cg_env.step(np.random.rand(6).astype(np.float32) * 2 - 1)\n",
    "# plt.imshow(obs_0)\n",
    "# plt.show()\n",
    "# plt.imshow(obs)\n",
    "# plt.show()\n",
    "for i, j, k in itertools.product(*(3 * [[-.75, .25]])):\n",
    "    obs, reward, done, extra = cg_env.step(np.array([i, 0, j, 0, k, 0], dtype=np.float32))\n",
    "    plt.imshow(obs)\n",
    "    plt.show()\n",
    "    obs, reward, done, extra = cg_env.step(np.array([i + .5, 0, j + .5, 0, k + .5, 0], dtype=np.float32))\n",
    "    plt.imshow(obs)\n",
    "    plt.show()"
   ],
   "metadata": {
    "collapsed": false,
    "pycharm": {
     "is_executing": true
    }
   }
  },
  {
   "cell_type": "code",
   "execution_count": null,
   "outputs": [],
   "source": [
    "cg_env = make(\n",
    "    'cheetah', 'run',\n",
    "    [0, 2, 4,],\n",
    "    4,\n",
    "    16,\n",
    "    color_grid.EvilEnum.MAXIMUM_EVIL,\n",
    "    from_pixels=True,\n",
    "    visualize_reward=False)\n",
    "obs_0 = cg_env.reset()\n",
    "obs, reward, done, extra = cg_env.step(np.random.rand(6).astype(np.float32) * 2 - 1)\n",
    "# plt.imshow(obs_0)\n",
    "# plt.show()\n",
    "# plt.imshow(obs)\n",
    "# plt.show()\n",
    "for i, j, k in itertools.product(*(3 * [[-.75, .25]])):\n",
    "    obs, reward, done, extra = cg_env.step(np.array([i, 0, j, 0, k, 0], dtype=np.float32))\n",
    "    plt.imshow(obs)\n",
    "    plt.show()\n",
    "    obs, reward, done, extra = cg_env.step(np.array([i + .5, 0, j + .5, 0, k + .5, 0], dtype=np.float32))\n",
    "    plt.imshow(obs)\n",
    "    plt.show()"
   ],
   "metadata": {
    "collapsed": false,
    "pycharm": {
     "is_executing": true
    }
   }
  },
  {
   "cell_type": "code",
   "execution_count": null,
   "outputs": [],
   "source": [
    "cg_env = make(\n",
    "    'cheetah', 'run',\n",
    "    [0, 2, 4,],\n",
    "    8,\n",
    "    16,\n",
    "    color_grid.EvilEnum.MAXIMUM_EVIL,\n",
    "    from_pixels=True,\n",
    "    visualize_reward=False)\n",
    "obs_0 = cg_env.reset()\n",
    "obs, reward, done, extra = cg_env.step(np.random.rand(6).astype(np.float32) * 2 - 1)\n",
    "# plt.imshow(obs_0)\n",
    "# plt.show()\n",
    "# plt.imshow(obs)\n",
    "# plt.show()\n",
    "for i, j, k in itertools.product(*(3 * [[-.75, .25]])):\n",
    "    obs, reward, done, extra = cg_env.step(np.array([i, 0, j, 0, k, 0], dtype=np.float32))\n",
    "    plt.imshow(obs)\n",
    "    plt.show()\n",
    "    obs, reward, done, extra = cg_env.step(np.array([i + .5, 0, j + .5, 0, k + .5, 0], dtype=np.float32))\n",
    "    plt.imshow(obs)\n",
    "    plt.show()"
   ],
   "metadata": {
    "collapsed": false,
    "pycharm": {
     "is_executing": true
    }
   }
  },
  {
   "cell_type": "code",
   "execution_count": null,
   "outputs": [],
   "source": [
    "cg_env = make(\n",
    "    'cheetah', 'run',\n",
    "    [0, 2, 4,],\n",
    "    16,\n",
    "    16,\n",
    "    color_grid.EvilEnum.MAXIMUM_EVIL,\n",
    "    from_pixels=True,\n",
    "    visualize_reward=False)\n",
    "obs_0 = cg_env.reset()\n",
    "obs, reward, done, extra = cg_env.step(np.random.rand(6).astype(np.float32) * 2 - 1)\n",
    "# plt.imshow(obs_0)\n",
    "# plt.show()\n",
    "# plt.imshow(obs)\n",
    "# plt.show()\n",
    "for i, j, k in itertools.product(*(3 * [[-.75, .25]])):\n",
    "    obs, reward, done, extra = cg_env.step(np.array([i, 0, j, 0, k, 0], dtype=np.float32))\n",
    "    plt.imshow(obs)\n",
    "    plt.show()\n",
    "    obs, reward, done, extra = cg_env.step(np.array([i + .5, 0, j + .5, 0, k + .5, 0], dtype=np.float32))\n",
    "    plt.imshow(obs)\n",
    "    plt.show()"
   ],
   "metadata": {
    "collapsed": false
   }
  }
 ],
 "metadata": {
  "kernelspec": {
   "display_name": "Python 3",
   "language": "python",
   "name": "python3"
  },
  "language_info": {
   "codemirror_mode": {
    "name": "ipython",
    "version": 2
   },
   "file_extension": ".py",
   "mimetype": "text/x-python",
   "name": "python",
   "nbconvert_exporter": "python",
   "pygments_lexer": "ipython2",
   "version": "2.7.6"
  }
 },
 "nbformat": 4,
 "nbformat_minor": 0
}
