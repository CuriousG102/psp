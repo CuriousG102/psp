{
 "cells": [
  {
   "cell_type": "markdown",
   "metadata": {},
   "source": [
    "## Imports"
   ]
  },
  {
   "cell_type": "code",
   "execution_count": 15,
   "metadata": {
    "pycharm": {
     "is_executing": true
    }
   },
   "outputs": [],
   "source": [
    "import functools\n",
    "import warnings\n",
    "\n",
    "import dreamerv3\n",
    "from dreamerv3 import embodied\n",
    "from dreamerv3.embodied.envs import color_dmc\n",
    "from dreamerv3.embodied.envs import from_gym\n",
    "from dreamerv3 import ninjax as nj\n",
    "\n",
    "from wrappers import color_grid_utils\n",
    "\n",
    "import jax\n",
    "\n",
    "tree_map = jax.tree_util.tree_map"
   ]
  },
  {
   "cell_type": "markdown",
   "metadata": {},
   "source": [
    "## Setting up config and DMC Color Environment"
   ]
  },
  {
   "cell_type": "code",
   "execution_count": 2,
   "metadata": {},
   "outputs": [],
   "source": [
    "config = embodied.Config(dreamerv3.configs['defaults'])\n",
    "config = config.update(dreamerv3.configs['medium'])\n",
    "config = config.update(dreamerv3.configs['dmc_vision'])\n",
    "for name in [\n",
    "    'action_evil',\n",
    "    'dynamic_value_gradient',\n",
    "    'latent_value_gradient_normed',\n",
    "    'latent_value_gradient_norm_keep_magnitude'\n",
    "]:\n",
    "    config = config.update(dreamerv3.configs[name])\n",
    "config = embodied.Flags(config).parse([\n",
    "    '--logdir',\n",
    "    '/media/hdd/Storage/distracting_benchmarks/logdir/dreamerv3'\n",
    "    '/action_vaml_scaling_dyn_normed_keep_magnitude',\n",
    "    '--task', 'cheetah_run',\n",
    "    '--jax.platform', 'cpu',\n",
    "    '--jax.jit', 'False'\n",
    "])\n",
    "logdir = embodied.Path(config.logdir)"
   ]
  },
  {
   "cell_type": "code",
   "execution_count": 3,
   "metadata": {},
   "outputs": [],
   "source": [
    "env = color_dmc.DMC(\n",
    "    config.task,\n",
    "    repeat=config.env.dmc.repeat,\n",
    "    size=config.env.dmc.size,\n",
    "    camera=config.env.dmc.camera,\n",
    "    num_cells_per_dim=config.evil.num_cells_per_dim,\n",
    "    num_colors_per_cell=config.evil.num_colors_per_cell,\n",
    "    evil_level=color_grid_utils.EVIL_CHOICE_CONVENIENCE_MAPPING[\n",
    "        config.evil.evil_level\n",
    "    ],\n",
    "    action_dims_to_split=config.evil.action_dims_to_split,\n",
    "    action_power=(\n",
    "        config.evil.action_power if config.evil.action_power >= 0\n",
    "        else None),\n",
    "    action_splits=(\n",
    "        config.evil.action_splits if config.evil.action_power < 0\n",
    "        else None),\n",
    ")"
   ]
  },
  {
   "cell_type": "markdown",
   "metadata": {},
   "source": [
    "## Setting up DreamerV3 Agent & Dataset, Loading from Checkpoint"
   ]
  },
  {
   "cell_type": "code",
   "execution_count": 4,
   "metadata": {},
   "outputs": [],
   "source": [
    "env = dreamerv3.wrap_env(env, config)\n",
    "env = embodied.BatchEnv([env], parallel=False)"
   ]
  },
  {
   "cell_type": "code",
   "execution_count": 5,
   "metadata": {},
   "outputs": [
    {
     "name": "stdout",
     "output_type": "stream",
     "text": [
      "Encoder CNN shapes: {'image': (64, 64, 3)}\n",
      "Encoder MLP shapes: {}\n",
      "Decoder CNN shapes: {'image': (64, 64, 3)}\n",
      "Decoder MLP shapes: {}\n",
      "JAX devices (1): [CpuDevice(id=0)]\n",
      "Policy devices: TFRT_CPU_0\n",
      "Train devices:  TFRT_CPU_0\n",
      "Optimizer model_opt has 15,687,811 variables.\n",
      "Optimizer actor_opt has 1,056,780 variables.\n",
      "Optimizer critic_opt has 1,181,439 variables.\n"
     ]
    }
   ],
   "source": [
    "step = embodied.Counter()\n",
    "agent = dreamerv3.Agent(env.obs_space, env.act_space, step, config)\n",
    "replay = embodied.replay.Uniform(\n",
    "    config.batch_length, config.replay_size, logdir / 'replay')"
   ]
  },
  {
   "cell_type": "code",
   "execution_count": 6,
   "metadata": {
    "scrolled": false
   },
   "outputs": [
    {
     "name": "stdout",
     "output_type": "stream",
     "text": [
      "Found existing checkpoint.\n",
      "Loading checkpoint: /media/hdd/Storage/distracting_benchmarks/logdir/dreamerv3/action_vaml_scaling_dyn_normed_keep_magnitude/checkpoint.ckpt\n",
      "Loaded checkpoint from 2021177 seconds ago.\n"
     ]
    }
   ],
   "source": [
    "checkpoint = embodied.Checkpoint(logdir / 'checkpoint.ckpt')\n",
    "checkpoint.step = step\n",
    "checkpoint.agent = agent\n",
    "checkpoint.replay = replay\n",
    "# checkpoint.load(logdir / 'checkpoint.ckpt')\n",
    "checkpoint.load_or_save()"
   ]
  },
  {
   "cell_type": "code",
   "execution_count": 8,
   "metadata": {},
   "outputs": [],
   "source": [
    "def get_embed_post_prior_v(sample, state):\n",
    "    vf = agent.agent.task_behavior.ac.critics['extr'].net\n",
    "    post, (embed, prior) = agent.agent.wm.get_embed_post_prior({}, sample, state)\n",
    "    v_mean = jax.jacrev(lambda post: vf(post).mean())\n",
    "    latent_v_grad = v_mean(post)\n",
    "    \n",
    "    return embed, post, prior, latent_v_grad\n",
    "get_embed_post_prior_v = jax.vmap(get_embed_post_prior_v, in_axes=[0, 0,])"
   ]
  },
  {
   "cell_type": "code",
   "execution_count": 9,
   "metadata": {},
   "outputs": [],
   "source": [
    "def preprocess_and_get_embed_post_prior_v(sample):\n",
    "    state = agent.agent.train_initial(len(sample['is_first']))\n",
    "    sample = agent.agent.preprocess(sample)\n",
    "    return get_embed_post_prior_v(sample, state)"
   ]
  },
  {
   "cell_type": "code",
   "execution_count": 10,
   "metadata": {},
   "outputs": [],
   "source": [
    "preprocess_and_get_embed_post_prior_v = nj.pure(preprocess_and_get_embed_post_prior_v)"
   ]
  },
  {
   "cell_type": "code",
   "execution_count": 12,
   "metadata": {},
   "outputs": [],
   "source": [
    "dataset = agent.dataset(replay.dataset)\n",
    "sample = next(dataset)"
   ]
  },
  {
   "cell_type": "code",
   "execution_count": 13,
   "metadata": {},
   "outputs": [],
   "source": [
    "varibs = {}\n",
    "rng = agent._next_rngs(agent.policy_devices)\n",
    "(embed, post, prior, latent_v_grad), varibs = preprocess_and_get_embed_post_prior_v(varibs, rng, sample)"
   ]
  },
  {
   "cell_type": "code",
   "execution_count": 16,
   "metadata": {},
   "outputs": [
    {
     "data": {
      "text/plain": [
       "{'deter': Array(False, dtype=bool),\n",
       " 'logit': Array(False, dtype=bool),\n",
       " 'stoch': Array(False, dtype=bool)}"
      ]
     },
     "execution_count": 16,
     "metadata": {},
     "output_type": "execute_result"
    }
   ],
   "source": [
    "tree_map(lambda x: (x > 0).any(), latent_v_grad)"
   ]
  },
  {
   "cell_type": "code",
   "execution_count": null,
   "metadata": {},
   "outputs": [],
   "source": []
  },
  {
   "cell_type": "code",
   "execution_count": null,
   "metadata": {},
   "outputs": [],
   "source": []
  },
  {
   "cell_type": "code",
   "execution_count": null,
   "metadata": {},
   "outputs": [],
   "source": []
  },
  {
   "cell_type": "code",
   "execution_count": null,
   "metadata": {},
   "outputs": [],
   "source": []
  },
  {
   "cell_type": "code",
   "execution_count": null,
   "metadata": {},
   "outputs": [],
   "source": []
  },
  {
   "cell_type": "code",
   "execution_count": null,
   "metadata": {},
   "outputs": [],
   "source": []
  },
  {
   "cell_type": "code",
   "execution_count": null,
   "metadata": {},
   "outputs": [],
   "source": []
  },
  {
   "cell_type": "code",
   "execution_count": null,
   "metadata": {},
   "outputs": [],
   "source": []
  },
  {
   "cell_type": "code",
   "execution_count": null,
   "metadata": {},
   "outputs": [],
   "source": []
  }
 ],
 "metadata": {
  "kernelspec": {
   "display_name": "Python 3 (ipykernel)",
   "language": "python",
   "name": "python3"
  },
  "language_info": {
   "codemirror_mode": {
    "name": "ipython",
    "version": 3
   },
   "file_extension": ".py",
   "mimetype": "text/x-python",
   "name": "python",
   "nbconvert_exporter": "python",
   "pygments_lexer": "ipython3",
   "version": "3.8.16"
  }
 },
 "nbformat": 4,
 "nbformat_minor": 1
}
