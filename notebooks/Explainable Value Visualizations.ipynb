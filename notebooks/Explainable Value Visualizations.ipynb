{
 "cells": [
  {
   "cell_type": "code",
   "execution_count": null,
   "id": "3e97b794",
   "metadata": {
    "ExecuteTime": {
     "start_time": "2023-11-11T19:31:34.495975822Z"
    },
    "is_executing": true
   },
   "outputs": [],
   "source": [
    "import collections\n",
    "\n",
    "import dreamerv3\n",
    "from dreamerv3 import embodied\n",
    "from dreamerv3.embodied.envs import color_dmc\n",
    "from dreamerv3 import ninjax as nj\n",
    "\n",
    "from wrappers import color_grid_utils\n",
    "\n",
    "import jax\n",
    "import jax.numpy as jnp\n",
    "import matplotlib as mpl\n",
    "import numpy as np\n",
    "import pandas as pd\n",
    "import scipy as sp\n",
    "\n",
    "tree_map = jax.tree_util.tree_map\n",
    "\n",
    "from matplotlib import pyplot as plt\n",
    "from matplotlib import animation\n",
    "from IPython.display import HTML, FileLink\n",
    "import tqdm"
   ]
  },
  {
   "cell_type": "code",
   "execution_count": 2,
   "id": "d4ea20e7",
   "metadata": {
    "ExecuteTime": {
     "end_time": "2023-10-21T04:28:35.444271462Z",
     "start_time": "2023-10-21T04:28:35.440666954Z"
    }
   },
   "outputs": [],
   "source": [
    "MODELS = {\n",
    "#     'v3_action_seq_new_vaml': {\n",
    "#         'configs': [\n",
    "#             'action_seq_evil_2500_new',\n",
    "#             'image_value_gradient'\n",
    "#         ],\n",
    "#         'logdir': (\n",
    "#             '/media/miles/File_Storage/'\n",
    "#             'distracting_benchmarks_logdir/node_2/'\n",
    "#             'logdir/dreamerv3/'\n",
    "#             'cheetah_action_seq_evil_2500_new_vaml'\n",
    "#         ),\n",
    "#         'task': 'cheetah_run',\n",
    "#     },\n",
    "#     'v3_action_seq_new': {\n",
    "#         'configs': [\n",
    "#             'action_seq_evil_2500_new'\n",
    "#         ],\n",
    "#         'logdir': (\n",
    "#             '/media/miles/File_Storage/'\n",
    "#             'distracting_benchmarks_logdir/'\n",
    "#             'node_2/logdir/dreamerv3/'\n",
    "#             'cheetah_action_seq_evil_2500_new'\n",
    "#         ),\n",
    "#         'task': 'cheetah_run',\n",
    "#     },\n",
    "#     'v3_action_seq_new_vaml_guided_silu': {\n",
    "#         'configs': [\n",
    "#             'action_seq_evil_2500_new',\n",
    "#             'image_value_gradient',\n",
    "#             'guided_silu_expl',\n",
    "#         ],\n",
    "#         'logdir': (\n",
    "#             '/media/miles/File_Storage/'\n",
    "#             'distracting_benchmarks_logdir/node_2/'\n",
    "#             'logdir/dreamerv3/'\n",
    "#             'cheetah_action_seq_evil_2500_new_vaml'\n",
    "#         ),\n",
    "#         'task': 'cheetah_run',\n",
    "#     },\n",
    "#     'v3_action_seq_new_guided_silu': {\n",
    "#         'configs': [\n",
    "#             'action_seq_evil_2500_new',\n",
    "#             'guided_silu_expl',\n",
    "#         ],\n",
    "#         'logdir': (\n",
    "#             '/media/miles/File_Storage/'\n",
    "#             'distracting_benchmarks_logdir/'\n",
    "#             'node_2/logdir/dreamerv3/'\n",
    "#             'cheetah_action_seq_evil_2500_new'\n",
    "#         ),\n",
    "#         'task': 'cheetah_run',\n",
    "#     },\n",
    "#     'v3_action_seq_new_interp_pt9': {\n",
    "#         'configs': [\n",
    "#             'action_seq_evil_2500_new',\n",
    "#             'image_value_gradient_interp_pt9',\n",
    "#         ],\n",
    "#         'logdir': (\n",
    "#             '/media/miles/File_Storage/'\n",
    "#             'distracting_benchmarks_logdir/'\n",
    "#             'node_2/logdir/dreamerv3/'\n",
    "#             'cheetah_action_seq_evil_2500_new'\n",
    "#         ),\n",
    "#         'task': 'cheetah_run',\n",
    "#     },\n",
    "    'v3_action_seq_new_interp_pt99': {\n",
    "        'configs': [\n",
    "            'action_seq_evil_2500_new',\n",
    "            'image_value_gradient_interp_pt99',\n",
    "        ],\n",
    "        'logdir': (\n",
    "            '/media/miles/File_Storage/'\n",
    "            'distracting_benchmarks_logdir/'\n",
    "            'node_2/logdir/dreamerv3/'\n",
    "            'cheetah_action_seq_evil_2500_new'\n",
    "        ),\n",
    "        'task': 'cheetah_run',\n",
    "    },\n",
    "#     'v3_action_seq_new_vaml_reward_expl': {\n",
    "#         'configs': [\n",
    "#             'action_seq_evil_2500_new',\n",
    "#             'image_value_gradient',\n",
    "#             'reward_head_gradient_weighting',\n",
    "#         ],\n",
    "#         'logdir': (\n",
    "#             '/media/miles/File_Storage/'\n",
    "#             'distracting_benchmarks_logdir/node_2/'\n",
    "#             'logdir/dreamerv3/'\n",
    "#             'cheetah_action_seq_evil_2500_new_vaml'\n",
    "#         ),\n",
    "#         'task': 'cheetah_run',\n",
    "#     },\n",
    "#     'v3_action_seq_new_reward_expl': {\n",
    "#         'configs': [\n",
    "#             'action_seq_evil_2500_new',\n",
    "#             'reward_head_gradient_weighting',\n",
    "#         ],\n",
    "#         'logdir': (\n",
    "#             '/media/miles/File_Storage/'\n",
    "#             'distracting_benchmarks_logdir/'\n",
    "#             'node_2/logdir/dreamerv3/'\n",
    "#             'cheetah_action_seq_evil_2500_new'\n",
    "#         ),\n",
    "#         'task': 'cheetah_run',\n",
    "#     },\n",
    "#     'v3_none_vaml_guided_silu': {\n",
    "#         'configs': [\n",
    "#             'no_evil',\n",
    "#             'image_value_gradient',\n",
    "#             'guided_silu_expl',\n",
    "#         ],\n",
    "#         'logdir': (\n",
    "#             '/media/miles/File_Storage/'\n",
    "#             'distracting_benchmarks_logdir/node_1/'\n",
    "#             'dreamerv3/'\n",
    "#             'none_small_vaml_scaling_img'\n",
    "#         ),\n",
    "#         'task': 'cheetah_run',\n",
    "#     },\n",
    "#     'v3_none_guided_silu': {\n",
    "#         'configs': [\n",
    "#             'no_evil',\n",
    "#             'guided_silu_expl',\n",
    "#         ],\n",
    "#         'logdir': (\n",
    "#             '/media/miles/File_Storage/'\n",
    "#             'distracting_benchmarks_logdir/node_1/'\n",
    "#             'dreamerv3/'\n",
    "#             'none'\n",
    "#         ),\n",
    "#         'task': 'cheetah_run',\n",
    "#     },\n",
    "\n",
    "#   'v3_none_vaml': {\n",
    "#     'configs': [\n",
    "#       'no_evil',\n",
    "#       'image_value_gradient'\n",
    "#     ],\n",
    "#     'logdir': (\n",
    "#       '/media/miles/File_Storage/'\n",
    "#       'distracting_benchmarks_logdir/node_1/'\n",
    "#       'dreamerv3/'\n",
    "#       'none_small_vaml_scaling_img'\n",
    "#     ),\n",
    "#     'task': 'cheetah_run',\n",
    "#   },\n",
    "#   'v3_none': {\n",
    "#     'configs': [\n",
    "#       'no_evil'\n",
    "#     ],\n",
    "#     'logdir': (\n",
    "#       '/media/miles/File_Storage/'\n",
    "#       'distracting_benchmarks_logdir/node_1/'\n",
    "#       'dreamerv3/'\n",
    "#       'none'\n",
    "#     ),\n",
    "#     'task': 'cheetah_run',\n",
    "#   },\n",
    "#   'v3_none_pt9': {\n",
    "#     'configs': [\n",
    "#       'no_evil',\n",
    "#       'image_value_gradient_interp_pt9',\n",
    "#     ],\n",
    "#     'logdir': (\n",
    "#       '/media/miles/File_Storage/'\n",
    "#       'distracting_benchmarks_logdir/node_1/'\n",
    "#       'dreamerv3/'\n",
    "#       'none'\n",
    "#     ),\n",
    "#     'task': 'cheetah_run',\n",
    "#   },\n",
    "  'v3_none_pt99': {\n",
    "    'configs': [\n",
    "      'no_evil',\n",
    "      'image_value_gradient_interp_pt99',\n",
    "    ],\n",
    "    'logdir': (\n",
    "      '/media/miles/File_Storage/'\n",
    "      'distracting_benchmarks_logdir/node_1/'\n",
    "      'dreamerv3/'\n",
    "      'none'\n",
    "    ),\n",
    "    'task': 'cheetah_run',\n",
    "  },\n",
    "}"
   ]
  },
  {
   "cell_type": "code",
   "execution_count": 3,
   "id": "76581a75",
   "metadata": {
    "ExecuteTime": {
     "end_time": "2023-10-21T04:28:35.444538891Z",
     "start_time": "2023-10-21T04:28:35.440839199Z"
    }
   },
   "outputs": [],
   "source": [
    "def get_config(model_info):\n",
    "    config = embodied.Config(dreamerv3.configs['defaults'])\n",
    "    config = config.update(dreamerv3.configs['dmc_vision'])\n",
    "#     config = config.update(dreamerv3.configs['cpu_full'])\n",
    "#     config = config.update(dreamerv3.configs['multicpu'])\n",
    "    for config_name in model_info['configs']:\n",
    "        config = config = config.update(\n",
    "            dreamerv3.configs[config_name])\n",
    "    config = embodied.Flags(config).parse([\n",
    "        '--logdir', model_info['logdir'],\n",
    "        '--task', model_info['task'],\n",
    "#         '--jax.jit', 'False',\n",
    "#         '--jax.policy_devices', '0'\n",
    "    ])\n",
    "    return config"
   ]
  },
  {
   "cell_type": "code",
   "execution_count": 4,
   "id": "19f88760",
   "metadata": {
    "ExecuteTime": {
     "end_time": "2023-10-21T04:28:35.444676463Z",
     "start_time": "2023-10-21T04:28:35.440961696Z"
    }
   },
   "outputs": [],
   "source": [
    "def get_env(config, include_foreground_mask=False):\n",
    "    return color_dmc.DMC(\n",
    "        config.task,\n",
    "        repeat=config.env.dmc.repeat,\n",
    "        size=config.env.dmc.size,\n",
    "        camera=config.env.dmc.camera,\n",
    "        num_cells_per_dim=config.evil.num_cells_per_dim,\n",
    "        num_colors_per_cell=config.evil.num_colors_per_cell,\n",
    "        evil_level=color_grid_utils.EVIL_CHOICE_CONVENIENCE_MAPPING[\n",
    "            config.evil.evil_level\n",
    "        ],\n",
    "        action_dims_to_split=config.evil.action_dims_to_split,\n",
    "        action_power=(\n",
    "            config.evil.action_power if config.evil.action_power >= 0\n",
    "            else None),\n",
    "        action_splits=(\n",
    "            config.evil.action_splits if config.evil.action_power < 0\n",
    "            else None),\n",
    "        include_foreground_mask=include_foreground_mask\n",
    "    )"
   ]
  },
  {
   "cell_type": "markdown",
   "id": "040c64c3",
   "metadata": {},
   "source": [
    "## Functions for Setting Up DreamerV3 Agent & Dataset, Loading from Checkpoint"
   ]
  },
  {
   "cell_type": "code",
   "execution_count": 5,
   "id": "e7be8bc5",
   "metadata": {
    "ExecuteTime": {
     "end_time": "2023-10-21T04:28:35.444795164Z",
     "start_time": "2023-10-21T04:28:35.441065571Z"
    }
   },
   "outputs": [],
   "source": [
    "def get_dreamer_env(config, include_foreground_mask=False):\n",
    "    env = get_env(\n",
    "        config,\n",
    "        include_foreground_mask=include_foreground_mask)\n",
    "    env = dreamerv3.wrap_env(env, config)\n",
    "    env = embodied.BatchEnv([env], parallel=False)\n",
    "    return env"
   ]
  },
  {
   "cell_type": "code",
   "execution_count": 6,
   "id": "7eb30704",
   "metadata": {
    "ExecuteTime": {
     "end_time": "2023-10-21T04:28:35.444975549Z",
     "start_time": "2023-10-21T04:28:35.441230336Z"
    }
   },
   "outputs": [],
   "source": [
    "def get_checkpoint(config):\n",
    "    logdir = embodied.Path(config.logdir)\n",
    "    step = embodied.Counter()\n",
    "    env = get_dreamer_env(config)\n",
    "    agent = dreamerv3.Agent(env.obs_space, env.act_space, step, config)\n",
    "    checkpoint = embodied.Checkpoint(logdir / 'checkpoint.ckpt')\n",
    "    checkpoint.agent = agent\n",
    "    checkpoint.load(keys=['agent'])\n",
    "    return checkpoint"
   ]
  },
  {
   "cell_type": "code",
   "execution_count": null,
   "id": "c84bc299",
   "metadata": {
    "ExecuteTime": {
     "end_time": "2023-10-21T04:30:56.020000566Z",
     "start_time": "2023-10-21T04:29:43.725530465Z"
    }
   },
   "outputs": [],
   "source": [
    "model_episodes = collections.defaultdict(dict)\n",
    "for k, config in tqdm.tqdm(\n",
    "    MODELS.items(), total=len(MODELS), desc='model'):\n",
    "    for v_expl_mode in [\n",
    "        'gradient_x_intensity',\n",
    "        'gradient',\n",
    "#         'integrated_gradient',\n",
    "    ]:\n",
    "        model_checkpoint = get_checkpoint(get_config(config))\n",
    "        \n",
    "        env = get_dreamer_env(\n",
    "            get_config(config),\n",
    "            include_foreground_mask=True)\n",
    "        \n",
    "        driver = embodied.Driver(env)\n",
    "        eval_episodes = []\n",
    "        def per_episode(ep):\n",
    "            eval_episodes.append(ep)\n",
    "        driver.on_episode(lambda ep, worker: per_episode(ep))\n",
    "        \n",
    "        agent = model_checkpoint._values['agent']\n",
    "        policy = lambda *args: agent.policy(\n",
    "            *args, mode='eval', include_recon=True, v_expl_mode=v_expl_mode)\n",
    "        for _ in tqdm.trange(7*10, desc='policy'):\n",
    "            driver(policy, steps=100)\n",
    "            \n",
    "        model_episodes[k][v_expl_mode] = eval_episodes\n",
    "del model_checkpoint"
   ]
  },
  {
   "cell_type": "code",
   "execution_count": null,
   "id": "007438c5",
   "metadata": {},
   "outputs": [],
   "source": [
    "model_episodes['v3_none_vaml']"
   ]
  },
  {
   "cell_type": "code",
   "execution_count": 9,
   "id": "d5d7eaaf",
   "metadata": {
    "ExecuteTime": {
     "end_time": "2023-10-09T05:46:02.320532759Z",
     "start_time": "2023-10-09T05:46:02.317269879Z"
    }
   },
   "outputs": [
    {
     "data": {
      "text/plain": [
       "{'reward': (501,),\n",
       " 'is_first': (501,),\n",
       " 'is_last': (501,),\n",
       " 'is_terminal': (501,),\n",
       " 'position': (501, 8),\n",
       " 'velocity': (501, 9),\n",
       " 'image': (501, 64, 64, 3),\n",
       " 'action': (501, 6),\n",
       " 'image_expl': (501, 64, 64, 3),\n",
       " 'log_entropy': (501,),\n",
       " 'recon': (501, 64, 64, 3),\n",
       " 'v': (501,),\n",
       " 'reset': (501,)}"
      ]
     },
     "execution_count": 9,
     "metadata": {},
     "output_type": "execute_result"
    }
   ],
   "source": [
    "{k: v.shape for k, v in model_episodes['v3_none_vaml']['gradient_x_intensity'][0].items()}"
   ]
  },
  {
   "cell_type": "code",
   "execution_count": 9,
   "id": "25b2342b",
   "metadata": {
    "ExecuteTime": {
     "end_time": "2023-10-18T06:39:55.664329743Z",
     "start_time": "2023-10-18T06:39:55.657355123Z"
    }
   },
   "outputs": [],
   "source": [
    "def rolling_average(image_expl, window_size, axis=0):\n",
    "    return sp.ndimage.convolve1d(\n",
    "        image_expl,\n",
    "        np.ones(window_size),\n",
    "        axis=axis,\n",
    "        mode='reflect') / window_size"
   ]
  },
  {
   "cell_type": "code",
   "execution_count": 12,
   "id": "2564a1ed",
   "metadata": {},
   "outputs": [
    {
     "ename": "KeyError",
     "evalue": "'gradient_x_intensity'",
     "output_type": "error",
     "traceback": [
      "\u001b[0;31m---------------------------------------------------------------------------\u001b[0m",
      "\u001b[0;31mKeyError\u001b[0m                                  Traceback (most recent call last)",
      "Cell \u001b[0;32mIn[12], line 2\u001b[0m\n\u001b[1;32m      1\u001b[0m rolling_average(\n\u001b[0;32m----> 2\u001b[0m     \u001b[43mmodel_episodes\u001b[49m\u001b[43m[\u001b[49m\u001b[38;5;124;43m'\u001b[39;49m\u001b[38;5;124;43mv3_none_vaml\u001b[39;49m\u001b[38;5;124;43m'\u001b[39;49m\u001b[43m]\u001b[49m\u001b[43m[\u001b[49m\u001b[38;5;124;43m'\u001b[39;49m\u001b[38;5;124;43mgradient_x_intensity\u001b[39;49m\u001b[38;5;124;43m'\u001b[39;49m\u001b[43m]\u001b[49m[\u001b[38;5;241m0\u001b[39m][\u001b[38;5;124m'\u001b[39m\u001b[38;5;124mimage_expl\u001b[39m\u001b[38;5;124m'\u001b[39m],\n\u001b[1;32m      3\u001b[0m     \u001b[38;5;241m3\u001b[39m)\u001b[38;5;241m.\u001b[39mshape\n",
      "\u001b[0;31mKeyError\u001b[0m: 'gradient_x_intensity'"
     ]
    }
   ],
   "source": [
    "rolling_average(\n",
    "    model_episodes['v3_none_vaml']['gradient_x_intensity'][0]['image_expl'],\n",
    "    3).shape"
   ]
  },
  {
   "cell_type": "code",
   "execution_count": 10,
   "id": "591d763f2b8df2b4",
   "metadata": {
    "ExecuteTime": {
     "end_time": "2023-10-18T06:39:58.163227876Z",
     "start_time": "2023-10-18T06:39:58.154266917Z"
    }
   },
   "outputs": [],
   "source": [
    "def normalize(im):\n",
    "    p99 = np.percentile(im, 99)\n",
    "    return np.clip((im - im.min()) / (p99 - im.min()), 0, 1)\n",
    "\n",
    "def stack_episodes(episodes):\n",
    "    stacked_episodes = {}\n",
    "    for k in episodes[0]:\n",
    "        stacked_episodes[k] = np.stack([\n",
    "            episode[k] for episode in episodes[1:]\n",
    "        ])\n",
    "    return stacked_episodes\n",
    "\n",
    "def show_episode(\n",
    "        episodes, \n",
    "        download=False, \n",
    "        image_expl_window=None,\n",
    "        name=None):\n",
    "    episodes = stack_episodes(episodes)\n",
    "    if image_expl_window is not None:\n",
    "        episodes['image_expl'] = rolling_average(\n",
    "            episodes['image_expl'],\n",
    "            image_expl_window,\n",
    "            axis=1\n",
    "        )\n",
    "\n",
    "    def show_for_i(i):\n",
    "        im = episodes['image'][:, i] / 255.\n",
    "        recon = episodes['recon'][:, i]\n",
    "\n",
    "        error = np.sum((im - recon) ** 2, axis=-1)\n",
    "        # bg = episodes['foreground_mask'][:, i]\n",
    "        expl = np.zeros_like(im)\n",
    "        expl[..., 1] = np.absolute(\n",
    "            episodes['image_expl'][:, i].sum(axis=-1))\n",
    "        expl = normalize(expl)\n",
    "\n",
    "\n",
    "        color_coded_error = np.zeros_like(im)\n",
    "        # color_coded_error[..., 2] = error * bg\n",
    "        # color_coded_error[..., 0] = error * (~bg)\n",
    "        bg_error = color_coded_error.copy()\n",
    "        bg_error[..., 0] = 0\n",
    "        fg_error = color_coded_error.copy()\n",
    "        fg_error[..., 2] = 0\n",
    "\n",
    "        recon = np.clip(recon, 0, 1)\n",
    "        color_coded_error = normalize(color_coded_error)\n",
    "        bg_error = normalize(bg_error)\n",
    "        fg_error = normalize(fg_error)\n",
    "\n",
    "        # bg = bg[..., None]\n",
    "        # bg = bg * 1.\n",
    "        # bg = np.repeat(bg, 3, axis=-1)\n",
    "\n",
    "        frame = np.concatenate([           # [B, H, 7*W, C]\n",
    "            im, recon, \n",
    "            # color_coded_error, \n",
    "            expl,\n",
    "            # bg_error, \n",
    "            # fg_error,\n",
    "            # bg\n",
    "        ], axis=2)\n",
    "        frame = frame.reshape(-1, *frame.shape[2:]) # [B * 7 * H, W, C]\n",
    "        return frame\n",
    "\n",
    "    fig = plt.figure()\n",
    "    im = plt.imshow(show_for_i(0))\n",
    "    plt.close()\n",
    "\n",
    "    def init():\n",
    "        im.set_data(show_for_i(0))\n",
    "\n",
    "    def animate(i):\n",
    "        im.set_data(show_for_i(i))\n",
    "        return im\n",
    "\n",
    "    anim = animation.FuncAnimation(\n",
    "        fig, animate, init_func=init,\n",
    "        frames=episodes['image'].shape[1],\n",
    "        interval=50)\n",
    "    if download:\n",
    "        mpl.rcParams['animation.bitrate'] = 8192\n",
    "        if name is None:\n",
    "            name = str(np.random.randint(100000))\n",
    "        fname = f'./tmp/{name}_dreamer_v3_movie.mov'\n",
    "        anim.save(fname)\n",
    "        local_file = FileLink(fname)\n",
    "        return display(local_file)\n",
    "    else:\n",
    "        mpl.rcParams['animation.bitrate'] = -1\n",
    "        return HTML(anim.to_html5_video())\n"
   ]
  },
  {
   "cell_type": "code",
   "execution_count": 11,
   "id": "1c3a6bbc",
   "metadata": {},
   "outputs": [
    {
     "name": "stderr",
     "output_type": "stream",
     "text": [
      "/tmp/ipykernel_568776/1613412492.py:3: RuntimeWarning: invalid value encountered in true_divide\n",
      "  return np.clip((im - im.min()) / (p99 - im.min()), 0, 1)\n",
      "/tmp/ipykernel_568776/1613412492.py:3: RuntimeWarning: invalid value encountered in true_divide\n",
      "  return np.clip((im - im.min()) / (p99 - im.min()), 0, 1)\n"
     ]
    },
    {
     "data": {
      "text/html": [
       "<a href='./tmp/v3_action_seq_new_interp_pt99_gradient_x_intensity_None_dreamer_v3_movie.mov' target='_blank'>./tmp/v3_action_seq_new_interp_pt99_gradient_x_intensity_None_dreamer_v3_movie.mov</a><br>"
      ],
      "text/plain": [
       "/media/hdd/Storage/distracting_benchmarks/notebooks/tmp/v3_action_seq_new_interp_pt99_gradient_x_intensity_None_dreamer_v3_movie.mov"
      ]
     },
     "metadata": {},
     "output_type": "display_data"
    },
    {
     "name": "stderr",
     "output_type": "stream",
     "text": [
      "/tmp/ipykernel_568776/1613412492.py:3: RuntimeWarning: invalid value encountered in true_divide\n",
      "  return np.clip((im - im.min()) / (p99 - im.min()), 0, 1)\n"
     ]
    },
    {
     "data": {
      "text/html": [
       "<a href='./tmp/v3_action_seq_new_interp_pt99_gradient_None_dreamer_v3_movie.mov' target='_blank'>./tmp/v3_action_seq_new_interp_pt99_gradient_None_dreamer_v3_movie.mov</a><br>"
      ],
      "text/plain": [
       "/media/hdd/Storage/distracting_benchmarks/notebooks/tmp/v3_action_seq_new_interp_pt99_gradient_None_dreamer_v3_movie.mov"
      ]
     },
     "metadata": {},
     "output_type": "display_data"
    },
    {
     "name": "stderr",
     "output_type": "stream",
     "text": [
      "/tmp/ipykernel_568776/1613412492.py:3: RuntimeWarning: invalid value encountered in true_divide\n",
      "  return np.clip((im - im.min()) / (p99 - im.min()), 0, 1)\n"
     ]
    },
    {
     "data": {
      "text/html": [
       "<a href='./tmp/v3_none_pt99_gradient_x_intensity_None_dreamer_v3_movie.mov' target='_blank'>./tmp/v3_none_pt99_gradient_x_intensity_None_dreamer_v3_movie.mov</a><br>"
      ],
      "text/plain": [
       "/media/hdd/Storage/distracting_benchmarks/notebooks/tmp/v3_none_pt99_gradient_x_intensity_None_dreamer_v3_movie.mov"
      ]
     },
     "metadata": {},
     "output_type": "display_data"
    },
    {
     "name": "stderr",
     "output_type": "stream",
     "text": [
      "/tmp/ipykernel_568776/1613412492.py:3: RuntimeWarning: invalid value encountered in true_divide\n",
      "  return np.clip((im - im.min()) / (p99 - im.min()), 0, 1)\n"
     ]
    },
    {
     "data": {
      "text/html": [
       "<a href='./tmp/v3_none_pt99_gradient_None_dreamer_v3_movie.mov' target='_blank'>./tmp/v3_none_pt99_gradient_None_dreamer_v3_movie.mov</a><br>"
      ],
      "text/plain": [
       "/media/hdd/Storage/distracting_benchmarks/notebooks/tmp/v3_none_pt99_gradient_None_dreamer_v3_movie.mov"
      ]
     },
     "metadata": {},
     "output_type": "display_data"
    }
   ],
   "source": [
    "for model_name in model_episodes:\n",
    "    for technique in model_episodes[model_name]:\n",
    "        episodes = model_episodes[model_name][technique]\n",
    "        for window in [None\n",
    "                       #, 3, 5, 7\n",
    "                      ]:\n",
    "            show_episode(\n",
    "                model_episodes[model_name][technique],\n",
    "                download=True,\n",
    "                name=f'{model_name}_{technique}_{window}',\n",
    "                image_expl_window=window\n",
    "            )"
   ]
  },
  {
   "cell_type": "code",
   "execution_count": null,
   "id": "77341b9a",
   "metadata": {},
   "outputs": [],
   "source": []
  }
 ],
 "metadata": {
  "kernelspec": {
   "display_name": "Python 3 (ipykernel)",
   "language": "python",
   "name": "python3"
  },
  "language_info": {
   "codemirror_mode": {
    "name": "ipython",
    "version": 3
   },
   "file_extension": ".py",
   "mimetype": "text/x-python",
   "name": "python",
   "nbconvert_exporter": "python",
   "pygments_lexer": "ipython3",
   "version": "3.8.17"
  }
 },
 "nbformat": 4,
 "nbformat_minor": 5
}
