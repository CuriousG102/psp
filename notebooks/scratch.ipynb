{
 "cells": [
  {
   "cell_type": "code",
   "execution_count": 34,
   "metadata": {
    "collapsed": true
   },
   "outputs": [
    {
     "data": {
      "text/plain": "13"
     },
     "execution_count": 34,
     "metadata": {},
     "output_type": "execute_result"
    }
   ],
   "source": [
    "action_dims_to_split = [0, 2, 4]\n",
    "colors_per_action_dim = [3, 2, 3]\n",
    "\n",
    "def _get_action_idx(action):\n",
    "    action = [\n",
    "        action_ for i, action_ in enumerate(action)\n",
    "        if i in action_dims_to_split\n",
    "    ]\n",
    "\n",
    "    pow = 1\n",
    "    for num_colors in colors_per_action_dim:\n",
    "        pow *= num_colors\n",
    "    action_idx = 0\n",
    "\n",
    "    for num_colors, action_ in zip(colors_per_action_dim, action):\n",
    "        delta = 2 / num_colors\n",
    "        action_idx += int((action_ + (1 - 1e-6)) / delta) * (pow // num_colors)\n",
    "        pow //= num_colors\n",
    "\n",
    "    return action_idx\n",
    "_get_action_idx([1, None,-0.1, None, 0, None,])"
   ]
  },
  {
   "cell_type": "code",
   "execution_count": 11,
   "outputs": [
    {
     "data": {
      "text/plain": "3"
     },
     "execution_count": 11,
     "metadata": {},
     "output_type": "execute_result"
    }
   ],
   "source": [],
   "metadata": {
    "collapsed": false
   }
  },
  {
   "cell_type": "code",
   "execution_count": null,
   "outputs": [],
   "source": [],
   "metadata": {
    "collapsed": false
   }
  }
 ],
 "metadata": {
  "kernelspec": {
   "display_name": "Python 3",
   "language": "python",
   "name": "python3"
  },
  "language_info": {
   "codemirror_mode": {
    "name": "ipython",
    "version": 2
   },
   "file_extension": ".py",
   "mimetype": "text/x-python",
   "name": "python",
   "nbconvert_exporter": "python",
   "pygments_lexer": "ipython2",
   "version": "2.7.6"
  }
 },
 "nbformat": 4,
 "nbformat_minor": 0
}
